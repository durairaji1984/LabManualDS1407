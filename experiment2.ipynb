{
 "cells": [
  {
   "cell_type": "markdown",
   "id": "59140ec4",
   "metadata": {},
   "source": [
    "<div style=\"text-align: center\"> <h1>Exp.2. Perform Mathematical Computing using NumPy - Array and Matrices</h1></div>\n",
    "\n",
    "\n",
    "**Aim:**\n",
    "To perform mathematical operations using NumPy python library and understand the data handling features of the library.\n",
    "\n",
    "**Procedure:**\n",
    "\n",
    "Step 1: Start the ‘ipython’ session from the terminal\n",
    "\n",
    "Step 2: Check the Numpy version installed in your environment by typing ‘numpy.__version__’\n",
    "\n",
    "Step 3: If not installed means run the ‘%pip install numpy’ magic command to install the library\n",
    "\n",
    "Step 4: Import the library in the session with an alias by typing ‘import numpy as np’\n",
    "\n",
    "Step 5: Perform matrix operations such as inner product, dot product, Transpose, Rank, Determinant, True Inverse, Eigenvalues and Eigenvectors\n",
    "\n",
    "Step 6: Verify the output"
   ]
  },
  {
   "cell_type": "markdown",
   "id": "9cae697a",
   "metadata": {},
   "source": [
    "# Program: \n",
    "### Numpy Inner Product ###"
   ]
  },
  {
   "cell_type": "code",
   "execution_count": 1,
   "id": "7df8e07d",
   "metadata": {},
   "outputs": [
    {
     "name": "stdout",
     "output_type": "stream",
     "text": [
      "a=  [1 2 3]\n",
      "b=  [4 5 6]\n",
      "\\inner: 32\n"
     ]
    }
   ],
   "source": [
    "import numpy as np\n",
    "# Vectors as 1D numpy arrays\n",
    "a = np.array([1, 2, 3])\n",
    "b = np.array([4, 5, 6])\n",
    "print(\"a= \", a)\n",
    "print(\"b= \", b)\n",
    "print(\"\\inner:\", np.inner(a, b))"
   ]
  },
  {
   "cell_type": "markdown",
   "id": "b821743d",
   "metadata": {},
   "source": [
    "### Numpy Dot Product of Matrices ###"
   ]
  },
  {
   "cell_type": "code",
   "execution_count": 2,
   "id": "b85bea92",
   "metadata": {},
   "outputs": [
    {
     "name": "stdout",
     "output_type": "stream",
     "text": [
      "\n",
      "c <class 'numpy.matrix'>\n",
      "[[1 2]\n",
      " [3 4]]\n",
      "\n",
      "d <class 'numpy.matrix'>\n",
      "[[ 5  6  7]\n",
      " [ 8  9 10]]\n",
      "\n",
      "dot product of two matrix objects\n",
      "[[21 24 27]\n",
      " [47 54 61]]\n"
     ]
    }
   ],
   "source": [
    "# Matrices as matrix objects\n",
    "c = np.matrix([[1, 2], [3, 4]])\n",
    "d = np.matrix([[5, 6, 7], [8, 9, 10]])\n",
    "print(\"\\nc\", type(c))\n",
    "print(c)\n",
    "print(\"\\nd\", type(d))\n",
    "print(d)\n",
    "print(\"\\ndot product of two matrix objects\")\n",
    "print(np.dot(c, d))"
   ]
  },
  {
   "cell_type": "markdown",
   "id": "6b1543c1",
   "metadata": {},
   "source": [
    "### Transpose of a Matrix ###"
   ]
  },
  {
   "cell_type": "code",
   "execution_count": 3,
   "id": "f7df8600",
   "metadata": {},
   "outputs": [
    {
     "name": "stdout",
     "output_type": "stream",
     "text": [
      "a = \n",
      "[[1 2]\n",
      " [3 4]\n",
      " [5 6]]\n",
      "\n",
      "With np.transpose(a) function\n",
      "[[1 3 5]\n",
      " [2 4 6]]\n",
      "\n",
      "With ndarray.transpose() method\n",
      "[[1 3 5]\n",
      " [2 4 6]]\n",
      "\n",
      "With ndarray.T short form\n",
      "[[1 3 5]\n",
      " [2 4 6]]\n"
     ]
    }
   ],
   "source": [
    "a = np.array([[1, 2], [3, 4], [5, 6]])\n",
    "print(\"a = \")\n",
    "print(a)\n",
    "print(\"\\nWith np.transpose(a) function\")\n",
    "print(np.transpose(a))\n",
    "print(\"\\nWith ndarray.transpose() method\")\n",
    "print(a.transpose())\n",
    "print(\"\\nWith ndarray.T short form\")\n",
    "print(a.T)"
   ]
  },
  {
   "cell_type": "markdown",
   "id": "55421760",
   "metadata": {},
   "source": [
    "### Rank of matrix ###"
   ]
  },
  {
   "cell_type": "code",
   "execution_count": 4,
   "id": "f3b07bf1",
   "metadata": {},
   "outputs": [
    {
     "name": "stdout",
     "output_type": "stream",
     "text": [
      "a = \n",
      "[[1 2 3]\n",
      " [4 5 6]\n",
      " [7 8 9]]\n",
      "\n",
      "Rank: 2\n"
     ]
    }
   ],
   "source": [
    "a = np.arange(1, 10)\n",
    "a.shape = (3, 3)\n",
    "print(\"a = \")\n",
    "print(a)\n",
    "rank = np.linalg.matrix_rank(a)\n",
    "print(\"\\nRank:\", rank)"
   ]
  },
  {
   "cell_type": "markdown",
   "id": "2916963c",
   "metadata": {},
   "source": [
    "### Determinant of a Matrix ###"
   ]
  },
  {
   "cell_type": "code",
   "execution_count": 5,
   "id": "3d0790c4",
   "metadata": {},
   "outputs": [
    {
     "name": "stdout",
     "output_type": "stream",
     "text": [
      "a = \n",
      "[[2 2 1]\n",
      " [1 3 1]\n",
      " [1 2 2]]\n",
      "\n",
      "Determinant: 5.0\n"
     ]
    }
   ],
   "source": [
    "a = np.array([[2, 2, 1],\n",
    " [1, 3, 1],\n",
    "[1, 2, 2]])\n",
    "print(\"a = \")\n",
    "print(a)\n",
    "det = np.linalg.det(a)\n",
    "print(\"\\nDeterminant:\", np.round(det))\n"
   ]
  },
  {
   "cell_type": "markdown",
   "id": "56e37333",
   "metadata": {},
   "source": [
    "### True Inverse of a matrix ###"
   ]
  },
  {
   "cell_type": "code",
   "execution_count": 6,
   "id": "cd95884f",
   "metadata": {},
   "outputs": [
    {
     "name": "stdout",
     "output_type": "stream",
     "text": [
      "a = \n",
      "[[2 2 1]\n",
      " [1 3 1]\n",
      " [1 2 2]]\n",
      "\n",
      "Determinant: 5.0\n",
      "\n",
      "Inverse of a = \n",
      "[[ 0.8 -0.4 -0.2]\n",
      " [-0.2  0.6 -0.2]\n",
      " [-0.2 -0.4  0.8]]\n"
     ]
    }
   ],
   "source": [
    "a = np.array([[2, 2, 1],\n",
    " [1, 3, 1],\n",
    " [1, 2, 2]])\n",
    "print(\"a = \")\n",
    "print(a)\n",
    "det = np.linalg.det(a)\n",
    "print(\"\\nDeterminant:\", np.round(det))\n",
    "inv = np.linalg.inv(a)\n",
    "print(\"\\nInverse of a = \")\n",
    "print(inv)"
   ]
  },
  {
   "cell_type": "markdown",
   "id": "6ce4b3d6",
   "metadata": {},
   "source": [
    "### Eigenvalues and Eigenvectors of a matrix ###"
   ]
  },
  {
   "cell_type": "code",
   "execution_count": 7,
   "id": "9f545f80",
   "metadata": {},
   "outputs": [
    {
     "name": "stdout",
     "output_type": "stream",
     "text": [
      "a = \n",
      "[[2 2 1]\n",
      " [1 3 1]\n",
      " [1 2 2]]\n",
      "\n",
      "Eigenvalues:\n",
      "[5. 1. 1.]\n",
      "\n",
      "Eigenvectors:\n",
      "[[ 0.57735027  0.90453403  0.36601928]\n",
      " [ 0.57735027 -0.30151134 -0.55609927]\n",
      " [ 0.57735027 -0.30151134  0.74617926]]\n"
     ]
    }
   ],
   "source": [
    "a = np.array([[2, 2, 1],\n",
    " [1, 3, 1],\n",
    " [1, 2, 2]])\n",
    "print(\"a = \")\n",
    "print(a)\n",
    "w, v = np.linalg.eig(a)\n",
    "print(\"\\nEigenvalues:\")\n",
    "print(w)\n",
    "print(\"\\nEigenvectors:\")\n",
    "print(v)\n"
   ]
  },
  {
   "cell_type": "markdown",
   "id": "be220fe7",
   "metadata": {},
   "source": [
    "**Result:**\n",
    "\n",
    "Thus, the features of the Numpy library are studied and it’s uses in mathematical computation is demonstrated successfully.\n"
   ]
  },
  {
   "cell_type": "code",
   "execution_count": null,
   "id": "e62ad53d",
   "metadata": {},
   "outputs": [],
   "source": []
  }
 ],
 "metadata": {
  "kernelspec": {
   "display_name": "Python 3 (ipykernel)",
   "language": "python",
   "name": "python3"
  },
  "language_info": {
   "codemirror_mode": {
    "name": "ipython",
    "version": 3
   },
   "file_extension": ".py",
   "mimetype": "text/x-python",
   "name": "python",
   "nbconvert_exporter": "python",
   "pygments_lexer": "ipython3",
   "version": "3.11.5"
  }
 },
 "nbformat": 4,
 "nbformat_minor": 5
}
