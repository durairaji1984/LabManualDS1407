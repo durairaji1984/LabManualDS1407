{
 "cells": [
  {
   "cell_type": "markdown",
   "id": "076c80ab",
   "metadata": {},
   "source": [
    "<div style=\"text-align: center\"> <h1>Exp.6.1 Scientific Computing using sklearn - Support Vector Machines</h1></div>\n",
    "\n",
    "**Aim:**\n",
    "To perform prediction of iris data using Support Vector machines using Sklearn python library.\n",
    "\n",
    "**Procedure:**\n",
    "\n",
    "Step 1: Start the ‘ipython’ or ‘jupyter-notebook’ session from the terminal \n",
    "\n",
    "Step 2: Check the scipy version installed in your environment by typing 'sklearn.__version__'\n",
    "\n",
    "Step 3: If not installed means run the ‘%pip install sklearn magic command to install the library\n",
    "\n",
    "Step 4: Import the library in the session with an alias by typing ‘import sklearn’\n",
    "\n",
    "Step 5: Perform prediction using Support Vector Machine.\n",
    "\n",
    "Step 6: Verify the output"
   ]
  },
  {
   "cell_type": "markdown",
   "id": "cc07e682",
   "metadata": {},
   "source": [
    "## Program"
   ]
  },
  {
   "cell_type": "code",
   "execution_count": 1,
   "id": "6c8e815e",
   "metadata": {},
   "outputs": [],
   "source": [
    "import wget\n",
    "import numpy as np\n",
    "import pandas as pd\n",
    "import sklearn.metrics \n",
    "import seaborn as sns\n",
    "import matplotlib.pyplot as plt\n",
    "from sklearn.preprocessing import LabelEncoder\n",
    "from sklearn.model_selection import train_test_split\n",
    "from sklearn.metrics import accuracy_score\n",
    "from sklearn.metrics import classification_report\n",
    "from sklearn.svm import SVC"
   ]
  },
  {
   "cell_type": "markdown",
   "id": "1ad7d173",
   "metadata": {},
   "source": [
    "### Download the Iris dataset"
   ]
  },
  {
   "cell_type": "code",
   "execution_count": 2,
   "id": "0793e4af",
   "metadata": {},
   "outputs": [
    {
     "name": "stdout",
     "output_type": "stream",
     "text": [
      "[WinError 3] The system cannot find the path specified: 'Documents/PythonCode Test'\n",
      "C:\\Users\\St.Josephs\\Documents\\PythonCode Test\n"
     ]
    }
   ],
   "source": [
    "%cd \"Documents/PythonCode Test\""
   ]
  },
  {
   "cell_type": "code",
   "execution_count": 3,
   "id": "9b2758ab",
   "metadata": {},
   "outputs": [
    {
     "name": "stdout",
     "output_type": "stream",
     "text": [
      "\r",
      "  0% [                                                                                ]    0 / 3867\r",
      "100% [................................................................................] 3867 / 3867"
     ]
    },
    {
     "data": {
      "text/plain": [
       "'iris.csv'"
      ]
     },
     "execution_count": 3,
     "metadata": {},
     "output_type": "execute_result"
    }
   ],
   "source": [
    "url='https://raw.githubusercontent.com/durairaji1984/northwind-database/main/iris.csv'\n",
    "wget.download(url)"
   ]
  },
  {
   "cell_type": "markdown",
   "id": "d3b7947d",
   "metadata": {},
   "source": [
    "### Load the Iris dataset"
   ]
  },
  {
   "cell_type": "code",
   "execution_count": 4,
   "id": "1390f226",
   "metadata": {},
   "outputs": [
    {
     "data": {
      "text/plain": [
       "'C:/Users/St.Josephs/Documents/PythonCode Test/iris.csv'"
      ]
     },
     "execution_count": 4,
     "metadata": {},
     "output_type": "execute_result"
    }
   ],
   "source": [
    "path_to_data ='C:/Users/St.Josephs/Documents/PythonCode Test/iris.csv'\n",
    "path_to_data"
   ]
  },
  {
   "cell_type": "code",
   "execution_count": 5,
   "id": "63164649",
   "metadata": {},
   "outputs": [
    {
     "data": {
      "text/html": [
       "<div>\n",
       "<style scoped>\n",
       "    .dataframe tbody tr th:only-of-type {\n",
       "        vertical-align: middle;\n",
       "    }\n",
       "\n",
       "    .dataframe tbody tr th {\n",
       "        vertical-align: top;\n",
       "    }\n",
       "\n",
       "    .dataframe thead th {\n",
       "        text-align: right;\n",
       "    }\n",
       "</style>\n",
       "<table border=\"1\" class=\"dataframe\">\n",
       "  <thead>\n",
       "    <tr style=\"text-align: right;\">\n",
       "      <th></th>\n",
       "      <th>sepal.length</th>\n",
       "      <th>sepal.width</th>\n",
       "      <th>petal.length</th>\n",
       "      <th>petal.width</th>\n",
       "      <th>variety</th>\n",
       "    </tr>\n",
       "  </thead>\n",
       "  <tbody>\n",
       "    <tr>\n",
       "      <th>0</th>\n",
       "      <td>5.1</td>\n",
       "      <td>3.5</td>\n",
       "      <td>1.4</td>\n",
       "      <td>0.2</td>\n",
       "      <td>Setosa</td>\n",
       "    </tr>\n",
       "    <tr>\n",
       "      <th>1</th>\n",
       "      <td>4.9</td>\n",
       "      <td>3.0</td>\n",
       "      <td>1.4</td>\n",
       "      <td>0.2</td>\n",
       "      <td>Setosa</td>\n",
       "    </tr>\n",
       "    <tr>\n",
       "      <th>2</th>\n",
       "      <td>4.7</td>\n",
       "      <td>3.2</td>\n",
       "      <td>1.3</td>\n",
       "      <td>0.2</td>\n",
       "      <td>Setosa</td>\n",
       "    </tr>\n",
       "    <tr>\n",
       "      <th>3</th>\n",
       "      <td>4.6</td>\n",
       "      <td>3.1</td>\n",
       "      <td>1.5</td>\n",
       "      <td>0.2</td>\n",
       "      <td>Setosa</td>\n",
       "    </tr>\n",
       "    <tr>\n",
       "      <th>4</th>\n",
       "      <td>5.0</td>\n",
       "      <td>3.6</td>\n",
       "      <td>1.4</td>\n",
       "      <td>0.2</td>\n",
       "      <td>Setosa</td>\n",
       "    </tr>\n",
       "    <tr>\n",
       "      <th>...</th>\n",
       "      <td>...</td>\n",
       "      <td>...</td>\n",
       "      <td>...</td>\n",
       "      <td>...</td>\n",
       "      <td>...</td>\n",
       "    </tr>\n",
       "    <tr>\n",
       "      <th>145</th>\n",
       "      <td>6.7</td>\n",
       "      <td>3.0</td>\n",
       "      <td>5.2</td>\n",
       "      <td>2.3</td>\n",
       "      <td>Virginica</td>\n",
       "    </tr>\n",
       "    <tr>\n",
       "      <th>146</th>\n",
       "      <td>6.3</td>\n",
       "      <td>2.5</td>\n",
       "      <td>5.0</td>\n",
       "      <td>1.9</td>\n",
       "      <td>Virginica</td>\n",
       "    </tr>\n",
       "    <tr>\n",
       "      <th>147</th>\n",
       "      <td>6.5</td>\n",
       "      <td>3.0</td>\n",
       "      <td>5.2</td>\n",
       "      <td>2.0</td>\n",
       "      <td>Virginica</td>\n",
       "    </tr>\n",
       "    <tr>\n",
       "      <th>148</th>\n",
       "      <td>6.2</td>\n",
       "      <td>3.4</td>\n",
       "      <td>5.4</td>\n",
       "      <td>2.3</td>\n",
       "      <td>Virginica</td>\n",
       "    </tr>\n",
       "    <tr>\n",
       "      <th>149</th>\n",
       "      <td>5.9</td>\n",
       "      <td>3.0</td>\n",
       "      <td>5.1</td>\n",
       "      <td>1.8</td>\n",
       "      <td>Virginica</td>\n",
       "    </tr>\n",
       "  </tbody>\n",
       "</table>\n",
       "<p>150 rows × 5 columns</p>\n",
       "</div>"
      ],
      "text/plain": [
       "     sepal.length  sepal.width  petal.length  petal.width    variety\n",
       "0             5.1          3.5           1.4          0.2     Setosa\n",
       "1             4.9          3.0           1.4          0.2     Setosa\n",
       "2             4.7          3.2           1.3          0.2     Setosa\n",
       "3             4.6          3.1           1.5          0.2     Setosa\n",
       "4             5.0          3.6           1.4          0.2     Setosa\n",
       "..            ...          ...           ...          ...        ...\n",
       "145           6.7          3.0           5.2          2.3  Virginica\n",
       "146           6.3          2.5           5.0          1.9  Virginica\n",
       "147           6.5          3.0           5.2          2.0  Virginica\n",
       "148           6.2          3.4           5.4          2.3  Virginica\n",
       "149           5.9          3.0           5.1          1.8  Virginica\n",
       "\n",
       "[150 rows x 5 columns]"
      ]
     },
     "execution_count": 5,
     "metadata": {},
     "output_type": "execute_result"
    }
   ],
   "source": [
    "iris = pd.read_csv(path_to_data)\n",
    "iris"
   ]
  },
  {
   "cell_type": "code",
   "execution_count": 6,
   "id": "23d966e7",
   "metadata": {},
   "outputs": [
    {
     "data": {
      "text/html": [
       "<div>\n",
       "<style scoped>\n",
       "    .dataframe tbody tr th:only-of-type {\n",
       "        vertical-align: middle;\n",
       "    }\n",
       "\n",
       "    .dataframe tbody tr th {\n",
       "        vertical-align: top;\n",
       "    }\n",
       "\n",
       "    .dataframe thead th {\n",
       "        text-align: right;\n",
       "    }\n",
       "</style>\n",
       "<table border=\"1\" class=\"dataframe\">\n",
       "  <thead>\n",
       "    <tr style=\"text-align: right;\">\n",
       "      <th></th>\n",
       "      <th>sepal.length</th>\n",
       "      <th>sepal.width</th>\n",
       "      <th>petal.length</th>\n",
       "      <th>petal.width</th>\n",
       "      <th>variety</th>\n",
       "    </tr>\n",
       "  </thead>\n",
       "  <tbody>\n",
       "    <tr>\n",
       "      <th>0</th>\n",
       "      <td>5.1</td>\n",
       "      <td>3.5</td>\n",
       "      <td>1.4</td>\n",
       "      <td>0.2</td>\n",
       "      <td>Setosa</td>\n",
       "    </tr>\n",
       "    <tr>\n",
       "      <th>1</th>\n",
       "      <td>4.9</td>\n",
       "      <td>3.0</td>\n",
       "      <td>1.4</td>\n",
       "      <td>0.2</td>\n",
       "      <td>Setosa</td>\n",
       "    </tr>\n",
       "    <tr>\n",
       "      <th>2</th>\n",
       "      <td>4.7</td>\n",
       "      <td>3.2</td>\n",
       "      <td>1.3</td>\n",
       "      <td>0.2</td>\n",
       "      <td>Setosa</td>\n",
       "    </tr>\n",
       "    <tr>\n",
       "      <th>3</th>\n",
       "      <td>4.6</td>\n",
       "      <td>3.1</td>\n",
       "      <td>1.5</td>\n",
       "      <td>0.2</td>\n",
       "      <td>Setosa</td>\n",
       "    </tr>\n",
       "    <tr>\n",
       "      <th>4</th>\n",
       "      <td>5.0</td>\n",
       "      <td>3.6</td>\n",
       "      <td>1.4</td>\n",
       "      <td>0.2</td>\n",
       "      <td>Setosa</td>\n",
       "    </tr>\n",
       "  </tbody>\n",
       "</table>\n",
       "</div>"
      ],
      "text/plain": [
       "   sepal.length  sepal.width  petal.length  petal.width variety\n",
       "0           5.1          3.5           1.4          0.2  Setosa\n",
       "1           4.9          3.0           1.4          0.2  Setosa\n",
       "2           4.7          3.2           1.3          0.2  Setosa\n",
       "3           4.6          3.1           1.5          0.2  Setosa\n",
       "4           5.0          3.6           1.4          0.2  Setosa"
      ]
     },
     "execution_count": 6,
     "metadata": {},
     "output_type": "execute_result"
    }
   ],
   "source": [
    "#To see first 5 rows of the dataset\n",
    "iris.head()"
   ]
  },
  {
   "cell_type": "code",
   "execution_count": 7,
   "id": "c32222b4",
   "metadata": {},
   "outputs": [
    {
     "data": {
      "text/plain": [
       "sepal.length    float64\n",
       "sepal.width     float64\n",
       "petal.length    float64\n",
       "petal.width     float64\n",
       "variety          object\n",
       "dtype: object"
      ]
     },
     "execution_count": 7,
     "metadata": {},
     "output_type": "execute_result"
    }
   ],
   "source": [
    "#To know the data types of the variables.\n",
    "iris.dtypes"
   ]
  },
  {
   "cell_type": "code",
   "execution_count": 8,
   "id": "ce8e75c5",
   "metadata": {},
   "outputs": [
    {
     "data": {
      "text/plain": [
       "variety\n",
       "Setosa        50\n",
       "Versicolor    50\n",
       "Virginica     50\n",
       "Name: count, dtype: int64"
      ]
     },
     "execution_count": 8,
     "metadata": {},
     "output_type": "execute_result"
    }
   ],
   "source": [
    "# the count of each class we use value_counts()\n",
    "iris['variety'].value_counts()"
   ]
  },
  {
   "cell_type": "code",
   "execution_count": 9,
   "id": "17939150",
   "metadata": {},
   "outputs": [
    {
     "name": "stdout",
     "output_type": "stream",
     "text": [
      "<class 'pandas.core.frame.DataFrame'>\n",
      "RangeIndex: 150 entries, 0 to 149\n",
      "Data columns (total 5 columns):\n",
      " #   Column        Non-Null Count  Dtype  \n",
      "---  ------        --------------  -----  \n",
      " 0   sepal.length  150 non-null    float64\n",
      " 1   sepal.width   150 non-null    float64\n",
      " 2   petal.length  150 non-null    float64\n",
      " 3   petal.width   150 non-null    float64\n",
      " 4   variety       150 non-null    object \n",
      "dtypes: float64(4), object(1)\n",
      "memory usage: 6.0+ KB\n"
     ]
    }
   ],
   "source": [
    "# the information about Dataset\n",
    "iris.info()"
   ]
  },
  {
   "cell_type": "code",
   "execution_count": 10,
   "id": "4f0e6763",
   "metadata": {},
   "outputs": [
    {
     "name": "stdout",
     "output_type": "stream",
     "text": [
      "(150, 4)\n",
      "(150,)\n"
     ]
    }
   ],
   "source": [
    "#Separating independant variable and dependent variable(\"variety\")\n",
    "#X = iris.drop(['variety','target'], axis=1)\n",
    "X = iris.drop(['variety'], axis=1)\n",
    "y = iris['variety']\n",
    "# print(X.head())\n",
    "print(X.shape)\n",
    "# print(y.head())\n",
    "print(y.shape)"
   ]
  },
  {
   "cell_type": "markdown",
   "id": "8753e030",
   "metadata": {},
   "source": [
    "## Scatter Plot"
   ]
  },
  {
   "cell_type": "code",
   "execution_count": 11,
   "id": "234a27f4",
   "metadata": {},
   "outputs": [
    {
     "data": {
      "text/plain": [
       "Text(0.5, 1.0, 'Scatter Plot')"
      ]
     },
     "execution_count": 11,
     "metadata": {},
     "output_type": "execute_result"
    },
    {
     "data": {
      "image/png": "[encoded data removed]",
      "text/plain": [
       "<Figure size 640x480 with 1 Axes>"
      ]
     },
     "metadata": {},
     "output_type": "display_data"
    }
   ],
   "source": [
    "# Matplotlib for a scatter plot for sepal.length vs sepal.width . \n",
    "ax = iris[iris.variety=='Setosa'].plot.scatter(x='sepal.length', y='sepal.width', \n",
    "                                                    color='red', label='Setosa')\n",
    "iris[iris.variety=='Versicolor'].plot.scatter(x='sepal.length', y='sepal.width', \n",
    "                                                color='green', label='Versicolor', ax=ax)\n",
    "iris[iris.variety=='Virginica'].plot.scatter(x='sepal.length', y='sepal.width', \n",
    "                                                color='blue', label='Virginica', ax=ax)\n",
    "ax.set_title(\"Scatter Plot\")"
   ]
  },
  {
   "cell_type": "code",
   "execution_count": 12,
   "id": "3de188f0",
   "metadata": {},
   "outputs": [
    {
     "data": {
      "text/plain": [
       "Text(0.5, 1.0, 'Scatter Plot')"
      ]
     },
     "execution_count": 12,
     "metadata": {},
     "output_type": "execute_result"
    },
    {
     "data": {
      "image/png": "[encoded data removed]",
      "text/plain": [
       "<Figure size 640x480 with 1 Axes>"
      ]
     },
     "metadata": {},
     "output_type": "display_data"
    }
   ],
   "source": [
    "# Matplotlib for a scatter plot petal.length vs petal.width. \n",
    "ax = iris[iris.variety=='Setosa'].plot.scatter(x='petal.length', y='petal.width', \n",
    "                                                    color='red', label='Setosa')\n",
    "iris[iris.variety=='Versicolor'].plot.scatter(x='petal.length', y='petal.width', \n",
    "                                                color='green', label='Versicolor', ax=ax)\n",
    "iris[iris.variety=='Virginica'].plot.scatter(x='petal.length', y='petal.width', \n",
    "                                                color='blue', label='Virginica', ax=ax)\n",
    "ax.set_title(\"Scatter Plot\")"
   ]
  },
  {
   "cell_type": "markdown",
   "id": "dbf3f30e",
   "metadata": {},
   "source": [
    "### Splitting the dataset to Train and test"
   ]
  },
  {
   "cell_type": "code",
   "execution_count": 13,
   "id": "219fa4f2",
   "metadata": {},
   "outputs": [],
   "source": [
    "from sklearn.model_selection import train_test_split\n",
    "X_train, X_test, y_train, y_test = train_test_split(X, y, test_size=0.3, random_state=0)"
   ]
  },
  {
   "cell_type": "markdown",
   "id": "bcc525f0",
   "metadata": {},
   "source": [
    "### The shape of the train and test dataset."
   ]
  },
  {
   "cell_type": "code",
   "execution_count": 14,
   "id": "7f4cb201",
   "metadata": {},
   "outputs": [
    {
     "name": "stdout",
     "output_type": "stream",
     "text": [
      "(105, 4)\n",
      "(105,)\n",
      "(45, 4)\n",
      "(45,)\n"
     ]
    }
   ],
   "source": [
    "print(X_train.shape)\n",
    "print(y_train.shape)\n",
    "print(X_test.shape)\n",
    "print(y_test.shape)"
   ]
  },
  {
   "cell_type": "markdown",
   "id": "ba7b502f",
   "metadata": {},
   "source": [
    "### Create an SVM classifier"
   ]
  },
  {
   "cell_type": "code",
   "execution_count": 15,
   "id": "eb74ee59",
   "metadata": {},
   "outputs": [],
   "source": [
    "svm = SVC(kernel='linear')"
   ]
  },
  {
   "cell_type": "markdown",
   "id": "43186d60",
   "metadata": {},
   "source": [
    "### Fit the SVM classifier to the training data"
   ]
  },
  {
   "cell_type": "code",
   "execution_count": 16,
   "id": "72f1f1c4",
   "metadata": {},
   "outputs": [
    {
     "data": {
      "text/html": [
       "<style>#sk-container-id-1 {color: black;}#sk-container-id-1 pre{padding: 0;}#sk-container-id-1 div.sk-toggleable {background-color: white;}#sk-container-id-1 label.sk-toggleable__label {cursor: pointer;display: block;width: 100%;margin-bottom: 0;padding: 0.3em;box-sizing: border-box;text-align: center;}#sk-container-id-1 label.sk-toggleable__label-arrow:before {content: \"▸\";float: left;margin-right: 0.25em;color: #696969;}#sk-container-id-1 label.sk-toggleable__label-arrow:hover:before {color: black;}#sk-container-id-1 div.sk-estimator:hover label.sk-toggleable__label-arrow:before {color: black;}#sk-container-id-1 div.sk-toggleable__content {max-height: 0;max-width: 0;overflow: hidden;text-align: left;background-color: #f0f8ff;}#sk-container-id-1 div.sk-toggleable__content pre {margin: 0.2em;color: black;border-radius: 0.25em;background-color: #f0f8ff;}#sk-container-id-1 input.sk-toggleable__control:checked~div.sk-toggleable__content {max-height: 200px;max-width: 100%;overflow: auto;}#sk-container-id-1 input.sk-toggleable__control:checked~label.sk-toggleable__label-arrow:before {content: \"▾\";}#sk-container-id-1 div.sk-estimator input.sk-toggleable__control:checked~label.sk-toggleable__label {background-color: #d4ebff;}#sk-container-id-1 div.sk-label input.sk-toggleable__control:checked~label.sk-toggleable__label {background-color: #d4ebff;}#sk-container-id-1 input.sk-hidden--visually {border: 0;clip: rect(1px 1px 1px 1px);clip: rect(1px, 1px, 1px, 1px);height: 1px;margin: -1px;overflow: hidden;padding: 0;position: absolute;width: 1px;}#sk-container-id-1 div.sk-estimator {font-family: monospace;background-color: #f0f8ff;border: 1px dotted black;border-radius: 0.25em;box-sizing: border-box;margin-bottom: 0.5em;}#sk-container-id-1 div.sk-estimator:hover {background-color: #d4ebff;}#sk-container-id-1 div.sk-parallel-item::after {content: \"\";width: 100%;border-bottom: 1px solid gray;flex-grow: 1;}#sk-container-id-1 div.sk-label:hover label.sk-toggleable__label {background-color: #d4ebff;}#sk-container-id-1 div.sk-serial::before {content: \"\";position: absolute;border-left: 1px solid gray;box-sizing: border-box;top: 0;bottom: 0;left: 50%;z-index: 0;}#sk-container-id-1 div.sk-serial {display: flex;flex-direction: column;align-items: center;background-color: white;padding-right: 0.2em;padding-left: 0.2em;position: relative;}#sk-container-id-1 div.sk-item {position: relative;z-index: 1;}#sk-container-id-1 div.sk-parallel {display: flex;align-items: stretch;justify-content: center;background-color: white;position: relative;}#sk-container-id-1 div.sk-item::before, #sk-container-id-1 div.sk-parallel-item::before {content: \"\";position: absolute;border-left: 1px solid gray;box-sizing: border-box;top: 0;bottom: 0;left: 50%;z-index: -1;}#sk-container-id-1 div.sk-parallel-item {display: flex;flex-direction: column;z-index: 1;position: relative;background-color: white;}#sk-container-id-1 div.sk-parallel-item:first-child::after {align-self: flex-end;width: 50%;}#sk-container-id-1 div.sk-parallel-item:last-child::after {align-self: flex-start;width: 50%;}#sk-container-id-1 div.sk-parallel-item:only-child::after {width: 0;}#sk-container-id-1 div.sk-dashed-wrapped {border: 1px dashed gray;margin: 0 0.4em 0.5em 0.4em;box-sizing: border-box;padding-bottom: 0.4em;background-color: white;}#sk-container-id-1 div.sk-label label {font-family: monospace;font-weight: bold;display: inline-block;line-height: 1.2em;}#sk-container-id-1 div.sk-label-container {text-align: center;}#sk-container-id-1 div.sk-container {/* jupyter's `normalize.less` sets `[hidden] { display: none; }` but bootstrap.min.css set `[hidden] { display: none !important; }` so we also need the `!important` here to be able to override the default hidden behavior on the sphinx rendered scikit-learn.org. See: https://github.com/scikit-learn/scikit-learn/issues/21755 */display: inline-block !important;position: relative;}#sk-container-id-1 div.sk-text-repr-fallback {display: none;}</style><div id=\"sk-container-id-1\" class=\"sk-top-container\"><div class=\"sk-text-repr-fallback\"><pre>SVC(kernel=&#x27;linear&#x27;)</pre><b>In a Jupyter environment, please rerun this cell to show the HTML representation or trust the notebook. <br />On GitHub, the HTML representation is unable to render, please try loading this page with nbviewer.org.</b></div><div class=\"sk-container\" hidden><div class=\"sk-item\"><div class=\"sk-estimator sk-toggleable\"><input class=\"sk-toggleable__control sk-hidden--visually\" id=\"sk-estimator-id-1\" type=\"checkbox\" checked><label for=\"sk-estimator-id-1\" class=\"sk-toggleable__label sk-toggleable__label-arrow\">SVC</label><div class=\"sk-toggleable__content\"><pre>SVC(kernel=&#x27;linear&#x27;)</pre></div></div></div></div></div>"
      ],
      "text/plain": [
       "SVC(kernel='linear')"
      ]
     },
     "execution_count": 16,
     "metadata": {},
     "output_type": "execute_result"
    }
   ],
   "source": [
    "svm.fit(X_train, y_train)"
   ]
  },
  {
   "cell_type": "markdown",
   "id": "14dd8a7a",
   "metadata": {},
   "source": [
    "### Make predictions on the testing data"
   ]
  },
  {
   "cell_type": "code",
   "execution_count": 17,
   "id": "4aefdb13",
   "metadata": {},
   "outputs": [
    {
     "data": {
      "text/plain": [
       "array(['Virginica', 'Versicolor', 'Setosa', 'Virginica', 'Setosa',\n",
       "       'Virginica', 'Setosa', 'Versicolor', 'Versicolor', 'Versicolor',\n",
       "       'Virginica', 'Versicolor', 'Versicolor', 'Versicolor',\n",
       "       'Versicolor', 'Setosa', 'Versicolor', 'Versicolor', 'Setosa',\n",
       "       'Setosa', 'Virginica', 'Versicolor', 'Setosa', 'Setosa',\n",
       "       'Virginica', 'Setosa', 'Setosa', 'Versicolor', 'Versicolor',\n",
       "       'Setosa', 'Virginica', 'Versicolor', 'Setosa', 'Virginica',\n",
       "       'Virginica', 'Versicolor', 'Setosa', 'Virginica', 'Versicolor',\n",
       "       'Versicolor', 'Virginica', 'Setosa', 'Virginica', 'Setosa',\n",
       "       'Setosa'], dtype=object)"
      ]
     },
     "execution_count": 17,
     "metadata": {},
     "output_type": "execute_result"
    }
   ],
   "source": [
    "y_pred = svm.predict(X_test)\n",
    "y_pred"
   ]
  },
  {
   "cell_type": "markdown",
   "id": "e54750ae",
   "metadata": {},
   "source": [
    "### Creating  a confusion matrix,which compares the y_test and y_pred\n",
    "\n",
    "**What is a Confusion Matrix?**\n",
    "A confusion matrix is a matrix that summarizes the performance of a machine learning model on a set of test data. It is a means of displaying the number of accurate and inaccurate instances based on the model’s predictions. It is often used to measure the performance of classification models, which aim to predict a categorical label for each input instance.\n",
    "\n",
    "* **True positives (TP):** occur when the model accurately predicts a positive data point.\n",
    "\n",
    "* **True negatives (TN):** occur when the model accurately predicts a negative data point.\n",
    "\n",
    "* **False positives (FP):** occur when the model predicts a positive data point incorrectly.\n",
    "\n",
    "* **False negatives (FN):** occur when the model mispredicts a negative data point."
   ]
  },
  {
   "attachments": {
    "image-5.png": {
     "image/png": "[encoded data removed]"
    }
   },
   "cell_type": "markdown",
   "id": "030fcd8f",
   "metadata": {},
   "source": [
    "![image-5.png](attachment:image-5.png)"
   ]
  },
  {
   "attachments": {
    "image-2.png": {
     "image/png": "[encoded data removed]"
    }
   },
   "cell_type": "markdown",
   "id": "c50d54e3",
   "metadata": {},
   "source": [
    "**Accuracy** is used to measure the performance of the model. It is the ratio of Total correct instances to the total instances.\n",
    "\n",
    "![image-2.png](attachment:image-2.png)\n",
    "\n"
   ]
  },
  {
   "attachments": {
    "image.png": {
     "image/png": "[encoded data removed]"
    }
   },
   "cell_type": "markdown",
   "id": "78ddfcc9",
   "metadata": {},
   "source": [
    "**Precision** is a measure of how accurate a model’s positive predictions are. It is defined as the ratio of true positive predictions to the total number of positive predictions made by the model.\n",
    "\n",
    "![image.png](attachment:image.png)"
   ]
  },
  {
   "attachments": {
    "image.png": {
     "image/png": "[encoded data removed]"
    }
   },
   "cell_type": "markdown",
   "id": "7b968528",
   "metadata": {},
   "source": [
    "**Recall** measures the effectiveness of a classification model in identifying all relevant instances from a dataset. It is the ratio of the number of true positive (TP) instances to the sum of true positive and false negative (FN) instances.\n",
    "\n",
    "![image.png](attachment:image.png)"
   ]
  },
  {
   "attachments": {
    "image.png": {
     "image/png": "[encoded data removed]"
    }
   },
   "cell_type": "markdown",
   "id": "929d0b2e",
   "metadata": {},
   "source": [
    "**F1-score** is used to evaluate the overall performance of a classification model. It is the harmonic mean of precision and recall.\n",
    "\n",
    "![image.png](attachment:image.png)"
   ]
  },
  {
   "cell_type": "markdown",
   "id": "f35bf945",
   "metadata": {},
   "source": [
    "macro-avg is mean average macro-avg is mean average precision/recall/F1 of all classes. \n",
    "\n",
    "**macro-avg = (precision of class 0 + precision of class 1)/2**\n",
    "\n",
    "Weighed avg is the total number TP(true positive of all classes)/total number of objects in all classes.\n",
    "\n",
    "**Weighted-avg=\n",
    "(true positive of all class 0 + true positive of all class 1)/ (total number of class 0 + total number of class 1)**"
   ]
  },
  {
   "cell_type": "code",
   "execution_count": 18,
   "id": "74ee5829",
   "metadata": {},
   "outputs": [
    {
     "name": "stdout",
     "output_type": "stream",
     "text": [
      "Confusion Matrix: \n",
      " [[16  0  0]\n",
      " [ 0 17  1]\n",
      " [ 0  0 11]]\n"
     ]
    }
   ],
   "source": [
    "confusionmatrix = sklearn.metrics.confusion_matrix(y_test, y_pred)\n",
    "print(\"Confusion Matrix: \\n\", confusionmatrix)"
   ]
  },
  {
   "cell_type": "markdown",
   "id": "bfa18611",
   "metadata": {},
   "source": [
    "### Creating a dataframe for a array-formatted Confusion matrix"
   ]
  },
  {
   "cell_type": "code",
   "execution_count": 19,
   "id": "d81f940a",
   "metadata": {},
   "outputs": [
    {
     "name": "stdout",
     "output_type": "stream",
     "text": [
      "Confusion Matrix: \n",
      "            SETOSA  VERSICOLR  VIRGINICA\n",
      "SETOSA         16          0          0\n",
      "VERSICOLR       0         17          1\n",
      "VIRGINICA       0          0         11\n"
     ]
    }
   ],
   "source": [
    "cm_df = pd.DataFrame(confusionmatrix,\n",
    "                     index = ['SETOSA','VERSICOLR','VIRGINICA'], \n",
    "                     columns = ['SETOSA','VERSICOLR','VIRGINICA'])\n",
    "print(\"Confusion Matrix: \\n\", cm_df)"
   ]
  },
  {
   "cell_type": "markdown",
   "id": "9b872265",
   "metadata": {},
   "source": [
    "### Plotting the confusion matrix"
   ]
  },
  {
   "cell_type": "code",
   "execution_count": 20,
   "id": "d60bace0",
   "metadata": {},
   "outputs": [
    {
     "data": {
      "image/png": "[encoded data removed]",
      "text/plain": [
       "<Figure size 500x400 with 2 Axes>"
      ]
     },
     "metadata": {},
     "output_type": "display_data"
    }
   ],
   "source": [
    "plt.figure(figsize=(5,4))\n",
    "sns.heatmap(cm_df, annot=True)\n",
    "plt.title('Confusion Matrix')\n",
    "plt.ylabel('Actal Values')\n",
    "plt.xlabel('Predicted Values')\n",
    "plt.show()"
   ]
  },
  {
   "cell_type": "markdown",
   "id": "19120926",
   "metadata": {},
   "source": [
    "### Calculate the accuracy of the classifier"
   ]
  },
  {
   "cell_type": "code",
   "execution_count": 21,
   "id": "eb30859b",
   "metadata": {},
   "outputs": [
    {
     "name": "stdout",
     "output_type": "stream",
     "text": [
      "Actual Value: 114     Virginica\n",
      "62     Versicolor\n",
      "33         Setosa\n",
      "107     Virginica\n",
      "7          Setosa\n",
      "100     Virginica\n",
      "40         Setosa\n",
      "86     Versicolor\n",
      "76     Versicolor\n",
      "71     Versicolor\n",
      "134     Virginica\n",
      "51     Versicolor\n",
      "73     Versicolor\n",
      "54     Versicolor\n",
      "63     Versicolor\n",
      "37         Setosa\n",
      "78     Versicolor\n",
      "90     Versicolor\n",
      "45         Setosa\n",
      "16         Setosa\n",
      "121     Virginica\n",
      "66     Versicolor\n",
      "24         Setosa\n",
      "8          Setosa\n",
      "126     Virginica\n",
      "22         Setosa\n",
      "44         Setosa\n",
      "97     Versicolor\n",
      "93     Versicolor\n",
      "26         Setosa\n",
      "137     Virginica\n",
      "84     Versicolor\n",
      "27         Setosa\n",
      "127     Virginica\n",
      "132     Virginica\n",
      "59     Versicolor\n",
      "18         Setosa\n",
      "83     Versicolor\n",
      "61     Versicolor\n",
      "92     Versicolor\n",
      "112     Virginica\n",
      "2          Setosa\n",
      "141     Virginica\n",
      "43         Setosa\n",
      "10         Setosa\n",
      "Name: variety, dtype: object\n",
      "Predicted Value: ['Virginica' 'Versicolor' 'Setosa' 'Virginica' 'Setosa' 'Virginica'\n",
      " 'Setosa' 'Versicolor' 'Versicolor' 'Versicolor' 'Virginica' 'Versicolor'\n",
      " 'Versicolor' 'Versicolor' 'Versicolor' 'Setosa' 'Versicolor' 'Versicolor'\n",
      " 'Setosa' 'Setosa' 'Virginica' 'Versicolor' 'Setosa' 'Setosa' 'Virginica'\n",
      " 'Setosa' 'Setosa' 'Versicolor' 'Versicolor' 'Setosa' 'Virginica'\n",
      " 'Versicolor' 'Setosa' 'Virginica' 'Virginica' 'Versicolor' 'Setosa'\n",
      " 'Virginica' 'Versicolor' 'Versicolor' 'Virginica' 'Setosa' 'Virginica'\n",
      " 'Setosa' 'Setosa']\n"
     ]
    }
   ],
   "source": [
    "accuracy = accuracy_score(y_test, y_pred)\n",
    "print(\"Actual Value:\",y_test);\n",
    "print(\"Predicted Value:\",y_pred);"
   ]
  },
  {
   "cell_type": "code",
   "execution_count": 22,
   "id": "d391f5e2",
   "metadata": {},
   "outputs": [
    {
     "name": "stdout",
     "output_type": "stream",
     "text": [
      "Testing Accuracy: 0.9777777777777777\n"
     ]
    }
   ],
   "source": [
    "print('Testing Accuracy:', accuracy)"
   ]
  },
  {
   "cell_type": "markdown",
   "id": "bc7b93a9",
   "metadata": {},
   "source": [
    "### Calculate the accuracy of the each class"
   ]
  },
  {
   "cell_type": "code",
   "execution_count": 23,
   "id": "ad9481f7",
   "metadata": {},
   "outputs": [
    {
     "name": "stdout",
     "output_type": "stream",
     "text": [
      "Confusion Matrix: \n",
      " [[16  0  0]\n",
      " [ 0 17  1]\n",
      " [ 0  0 11]]\n"
     ]
    }
   ],
   "source": [
    "print(\"Confusion Matrix: \\n\", confusionmatrix)"
   ]
  },
  {
   "cell_type": "markdown",
   "id": "86e69640",
   "metadata": {},
   "source": [
    "### Accuracy,Precision,Recall and F1-Score for Setosa"
   ]
  },
  {
   "cell_type": "code",
   "execution_count": 24,
   "id": "05251ed7",
   "metadata": {},
   "outputs": [],
   "source": [
    "Accuracy_Setosa=(confusionmatrix[0][0]+(confusionmatrix[1][1]+\n",
    "                confusionmatrix[1][2]+confusionmatrix[2][1]+confusionmatrix[2][2]))/ np.sum(confusionmatrix) \n",
    "Recall_Setosa=confusionmatrix[0][0]/(confusionmatrix[0][0]+(confusionmatrix[0][1]+confusionmatrix[0][2]))\n",
    "Precision_Setosa=confusionmatrix[0][0]/(confusionmatrix[0][0]+(confusionmatrix[1][0]+confusionmatrix[2][0]))\n",
    "F1_Score_Setosa=(2*Precision_Setosa*Recall_Setosa)/(Precision_Setosa+Recall_Setosa)"
   ]
  },
  {
   "cell_type": "code",
   "execution_count": 25,
   "id": "71f1059e",
   "metadata": {},
   "outputs": [
    {
     "name": "stdout",
     "output_type": "stream",
     "text": [
      "Accuracy_Setosa: \n",
      " 1.0\n",
      "Precision_Setosa: \n",
      " 1.0\n",
      "Recall_Setosa: \n",
      " 1.0\n",
      "F1_Score_Setosa: \n",
      " 1.0\n"
     ]
    }
   ],
   "source": [
    "print(\"Accuracy_Setosa: \\n\", Accuracy_Setosa)\n",
    "print(\"Precision_Setosa: \\n\", Precision_Setosa)\n",
    "print(\"Recall_Setosa: \\n\", Recall_Setosa)\n",
    "print(\"F1_Score_Setosa: \\n\", F1_Score_Setosa)"
   ]
  },
  {
   "cell_type": "markdown",
   "id": "25d7ea62",
   "metadata": {},
   "source": [
    "### Accuracy,Precision,Recall and F1-Score for Versicolor"
   ]
  },
  {
   "cell_type": "code",
   "execution_count": 26,
   "id": "5ba5f2ac",
   "metadata": {},
   "outputs": [],
   "source": [
    "Accuracy_Versicolor=(confusionmatrix[1][1]+(confusionmatrix[0][0]+\n",
    "                confusionmatrix[0][2]+confusionmatrix[2][0]+confusionmatrix[2][2]))/ np.sum(confusionmatrix) \n",
    "Recall_Versicolor=confusionmatrix[1][1]/(confusionmatrix[1][1]+(confusionmatrix[1][0]+confusionmatrix[1][2]))\n",
    "Precision_Versicolor=confusionmatrix[1][1]/(confusionmatrix[1][1]+(confusionmatrix[0][1]+confusionmatrix[2][1]))\n",
    "F1_Score_Versicolor=(2*Precision_Versicolor*Recall_Versicolor)/(Precision_Versicolor+Recall_Versicolor)"
   ]
  },
  {
   "cell_type": "code",
   "execution_count": 27,
   "id": "6c6f8d45",
   "metadata": {},
   "outputs": [
    {
     "name": "stdout",
     "output_type": "stream",
     "text": [
      "Accuracy_Versicolor: \n",
      " 0.9777777777777777\n",
      "Precision_Versicolor: \n",
      " 1.0\n",
      "Recall_Versicolor: \n",
      " 0.9444444444444444\n",
      "F1_Score_Versicolor: \n",
      " 0.9714285714285714\n"
     ]
    }
   ],
   "source": [
    "print(\"Accuracy_Versicolor: \\n\", Accuracy_Versicolor)\n",
    "print(\"Precision_Versicolor: \\n\", Precision_Versicolor)\n",
    "print(\"Recall_Versicolor: \\n\", Recall_Versicolor)\n",
    "print(\"F1_Score_Versicolor: \\n\", F1_Score_Versicolor)"
   ]
  },
  {
   "cell_type": "markdown",
   "id": "9e1a0c6f",
   "metadata": {},
   "source": [
    "### Accuracy,Precision,Recall and F1-Score for Virginica"
   ]
  },
  {
   "cell_type": "code",
   "execution_count": 28,
   "id": "8744c340",
   "metadata": {},
   "outputs": [],
   "source": [
    "Accuracy_Virginica=(confusionmatrix[2][2]+(confusionmatrix[0][0]+\n",
    "                confusionmatrix[0][1]+confusionmatrix[1][0]+confusionmatrix[1][1]))/ np.sum(confusionmatrix) \n",
    "Recall_Virginica=confusionmatrix[2][2]/(confusionmatrix[2][2]+(confusionmatrix[2][0]+confusionmatrix[2][1]))\n",
    "Precision_Virginica=confusionmatrix[2][2]/(confusionmatrix[2][2]+(confusionmatrix[0][2]+confusionmatrix[1][2]))\n",
    "F1_Score_Virginica=(2*Precision_Virginica*Recall_Virginica)/(Precision_Virginica+Recall_Virginica)"
   ]
  },
  {
   "cell_type": "code",
   "execution_count": 29,
   "id": "851d98fa",
   "metadata": {},
   "outputs": [
    {
     "name": "stdout",
     "output_type": "stream",
     "text": [
      "Accuracy_Virginica: \n",
      " 0.9777777777777777\n",
      "Precision_Virginica: \n",
      " 0.9166666666666666\n",
      "Recall_Virginica: \n",
      " 1.0\n",
      "F1_Score_Virginica: \n",
      " 0.9565217391304348\n"
     ]
    }
   ],
   "source": [
    "print(\"Accuracy_Virginica: \\n\", Accuracy_Virginica)\n",
    "print(\"Precision_Virginica: \\n\", Precision_Virginica)\n",
    "print(\"Recall_Virginica: \\n\", Recall_Virginica)\n",
    "print(\"F1_Score_Virginica: \\n\", F1_Score_Virginica)"
   ]
  },
  {
   "cell_type": "markdown",
   "id": "6c586f37",
   "metadata": {},
   "source": [
    "### Macro Average"
   ]
  },
  {
   "cell_type": "code",
   "execution_count": 30,
   "id": "b475512a",
   "metadata": {},
   "outputs": [
    {
     "name": "stdout",
     "output_type": "stream",
     "text": [
      "macro Average for Precision: \n",
      " 0.9722222222222222\n"
     ]
    }
   ],
   "source": [
    "macro_avg_Pre = (Precision_Setosa+Precision_Versicolor+Precision_Virginica)/3\n",
    "print(\"macro Average for Precision: \\n\", macro_avg_Pre)"
   ]
  },
  {
   "cell_type": "code",
   "execution_count": 31,
   "id": "f774e49f",
   "metadata": {},
   "outputs": [
    {
     "name": "stdout",
     "output_type": "stream",
     "text": [
      "macro Average for Recall: \n",
      " 0.9814814814814815\n"
     ]
    }
   ],
   "source": [
    "macro_avg_Recall = (Recall_Setosa+Recall_Versicolor+Recall_Virginica)/3\n",
    "print(\"macro Average for Recall: \\n\", macro_avg_Recall)"
   ]
  },
  {
   "cell_type": "code",
   "execution_count": 32,
   "id": "668bc28c",
   "metadata": {},
   "outputs": [
    {
     "name": "stdout",
     "output_type": "stream",
     "text": [
      "macro Average for F1 Score: \n",
      " 0.975983436853002\n"
     ]
    }
   ],
   "source": [
    "macro_avg_F1 = (F1_Score_Setosa+F1_Score_Versicolor+F1_Score_Virginica)/3\n",
    "print(\"macro Average for F1 Score: \\n\", macro_avg_F1)"
   ]
  },
  {
   "cell_type": "markdown",
   "id": "e8d56d23",
   "metadata": {},
   "source": [
    "### Weighted Average"
   ]
  },
  {
   "cell_type": "markdown",
   "id": "97a39fc9",
   "metadata": {},
   "source": [
    "### each Class count"
   ]
  },
  {
   "cell_type": "code",
   "execution_count": 33,
   "id": "46f85269",
   "metadata": {},
   "outputs": [
    {
     "data": {
      "text/plain": [
       "variety\n",
       "Versicolor    18\n",
       "Setosa        16\n",
       "Virginica     11\n",
       "Name: count, dtype: int64"
      ]
     },
     "execution_count": 33,
     "metadata": {},
     "output_type": "execute_result"
    }
   ],
   "source": [
    "y1=y_test.value_counts()\n",
    "y1"
   ]
  },
  {
   "cell_type": "code",
   "execution_count": 34,
   "id": "a863f268",
   "metadata": {},
   "outputs": [
    {
     "data": {
      "text/plain": [
       "45"
      ]
     },
     "execution_count": 34,
     "metadata": {},
     "output_type": "execute_result"
    }
   ],
   "source": [
    "Total_No_of_Class=sum(y_test.value_counts())\n",
    "Total_No_of_Class"
   ]
  },
  {
   "cell_type": "code",
   "execution_count": 35,
   "id": "14cb7efe",
   "metadata": {},
   "outputs": [
    {
     "name": "stdout",
     "output_type": "stream",
     "text": [
      "Weighted Average: \n",
      " 0.9777777777777777\n"
     ]
    }
   ],
   "source": [
    "weighted_avg = (confusionmatrix[0][0]+confusionmatrix[1][1]+confusionmatrix[2][2])/Total_No_of_Class\n",
    "print(\"Weighted Average: \\n\", weighted_avg)"
   ]
  },
  {
   "cell_type": "markdown",
   "id": "82493395",
   "metadata": {},
   "source": [
    "## classification report for training set "
   ]
  },
  {
   "cell_type": "code",
   "execution_count": 36,
   "id": "556a18fc",
   "metadata": {},
   "outputs": [
    {
     "name": "stdout",
     "output_type": "stream",
     "text": [
      "              precision    recall  f1-score   support\n",
      "\n",
      "      Setosa       1.00      1.00      1.00        16\n",
      "  Versicolor       1.00      0.94      0.97        18\n",
      "   Virginica       0.92      1.00      0.96        11\n",
      "\n",
      "    accuracy                           0.98        45\n",
      "   macro avg       0.97      0.98      0.98        45\n",
      "weighted avg       0.98      0.98      0.98        45\n",
      "\n"
     ]
    }
   ],
   "source": [
    "#classification report for training set \n",
    "print(classification_report(y_test, y_pred))"
   ]
  },
  {
   "cell_type": "markdown",
   "id": "364f3f13",
   "metadata": {},
   "source": [
    "**Result:**\n",
    "    \n",
    "Thus, the Support Vector Machine is used to predict the iris dataset successfully.\n"
   ]
  },
  {
   "cell_type": "code",
   "execution_count": null,
   "id": "401cd897",
   "metadata": {},
   "outputs": [],
   "source": []
  }
 ],
 "metadata": {
  "kernelspec": {
   "display_name": "Python 3 (ipykernel)",
   "language": "python",
   "name": "python3"
  },
  "language_info": {
   "codemirror_mode": {
    "name": "ipython",
    "version": 3
   },
   "file_extension": ".py",
   "mimetype": "text/x-python",
   "name": "python",
   "nbconvert_exporter": "python",
   "pygments_lexer": "ipython3",
   "version": "3.11.5"
  }
 },
 "nbformat": 4,
 "nbformat_minor": 5
}
